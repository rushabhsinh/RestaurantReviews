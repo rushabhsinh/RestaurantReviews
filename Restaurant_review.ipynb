{
 "cells": [
  {
   "cell_type": "markdown",
   "id": "ee7ed57c",
   "metadata": {},
   "source": [
    "## Restaurant review classification"
   ]
  },
  {
   "cell_type": "code",
   "execution_count": 1,
   "id": "f618d0ec",
   "metadata": {},
   "outputs": [],
   "source": [
    "import tensorflow as tf\n",
    "import numpy as np \n",
    "\n",
    "from tensorflow.keras.preprocessing.sequence import pad_sequences\n",
    "from tensorflow.keras.layers import Embedding, LSTM, Dense, Bidirectional\n",
    "from tensorflow.keras.preprocessing.text import Tokenizer\n",
    "from tensorflow.keras.models import Sequential\n",
    "from tensorflow.keras.optimizers import Adam\n",
    "import matplotlib.pyplot as plt\n",
    "import pandas as pd"
   ]
  },
  {
   "cell_type": "code",
   "execution_count": 2,
   "id": "03f4c8bf",
   "metadata": {},
   "outputs": [
    {
     "data": {
      "text/html": [
       "<div>\n",
       "<style scoped>\n",
       "    .dataframe tbody tr th:only-of-type {\n",
       "        vertical-align: middle;\n",
       "    }\n",
       "\n",
       "    .dataframe tbody tr th {\n",
       "        vertical-align: top;\n",
       "    }\n",
       "\n",
       "    .dataframe thead th {\n",
       "        text-align: right;\n",
       "    }\n",
       "</style>\n",
       "<table border=\"1\" class=\"dataframe\">\n",
       "  <thead>\n",
       "    <tr style=\"text-align: right;\">\n",
       "      <th></th>\n",
       "      <th>Review</th>\n",
       "      <th>Liked</th>\n",
       "    </tr>\n",
       "  </thead>\n",
       "  <tbody>\n",
       "    <tr>\n",
       "      <th>0</th>\n",
       "      <td>Wow... Loved this place.</td>\n",
       "      <td>1</td>\n",
       "    </tr>\n",
       "    <tr>\n",
       "      <th>1</th>\n",
       "      <td>Crust is not good.</td>\n",
       "      <td>0</td>\n",
       "    </tr>\n",
       "    <tr>\n",
       "      <th>2</th>\n",
       "      <td>Not tasty and the texture was just nasty.</td>\n",
       "      <td>0</td>\n",
       "    </tr>\n",
       "    <tr>\n",
       "      <th>3</th>\n",
       "      <td>Stopped by during the late May bank holiday of...</td>\n",
       "      <td>1</td>\n",
       "    </tr>\n",
       "    <tr>\n",
       "      <th>4</th>\n",
       "      <td>The selection on the menu was great and so wer...</td>\n",
       "      <td>1</td>\n",
       "    </tr>\n",
       "    <tr>\n",
       "      <th>...</th>\n",
       "      <td>...</td>\n",
       "      <td>...</td>\n",
       "    </tr>\n",
       "    <tr>\n",
       "      <th>995</th>\n",
       "      <td>I think food should have flavor and texture an...</td>\n",
       "      <td>0</td>\n",
       "    </tr>\n",
       "    <tr>\n",
       "      <th>996</th>\n",
       "      <td>Appetite instantly gone.</td>\n",
       "      <td>0</td>\n",
       "    </tr>\n",
       "    <tr>\n",
       "      <th>997</th>\n",
       "      <td>Overall I was not impressed and would not go b...</td>\n",
       "      <td>0</td>\n",
       "    </tr>\n",
       "    <tr>\n",
       "      <th>998</th>\n",
       "      <td>The whole experience was underwhelming, and I ...</td>\n",
       "      <td>0</td>\n",
       "    </tr>\n",
       "    <tr>\n",
       "      <th>999</th>\n",
       "      <td>Then, as if I hadn't wasted enough of my life ...</td>\n",
       "      <td>0</td>\n",
       "    </tr>\n",
       "  </tbody>\n",
       "</table>\n",
       "<p>1000 rows × 2 columns</p>\n",
       "</div>"
      ],
      "text/plain": [
       "                                                Review  Liked\n",
       "0                             Wow... Loved this place.      1\n",
       "1                                   Crust is not good.      0\n",
       "2            Not tasty and the texture was just nasty.      0\n",
       "3    Stopped by during the late May bank holiday of...      1\n",
       "4    The selection on the menu was great and so wer...      1\n",
       "..                                                 ...    ...\n",
       "995  I think food should have flavor and texture an...      0\n",
       "996                           Appetite instantly gone.      0\n",
       "997  Overall I was not impressed and would not go b...      0\n",
       "998  The whole experience was underwhelming, and I ...      0\n",
       "999  Then, as if I hadn't wasted enough of my life ...      0\n",
       "\n",
       "[1000 rows x 2 columns]"
      ]
     },
     "execution_count": 2,
     "metadata": {},
     "output_type": "execute_result"
    }
   ],
   "source": [
    "dataset = pd.read_csv('Restaurant_Reviews.tsv', delimiter = '\\t', quoting = 3)\n",
    "dataset"
   ]
  },
  {
   "cell_type": "code",
   "execution_count": 3,
   "id": "3b74ed05",
   "metadata": {},
   "outputs": [
    {
     "data": {
      "text/plain": [
       "(1000,)"
      ]
     },
     "execution_count": 3,
     "metadata": {},
     "output_type": "execute_result"
    }
   ],
   "source": [
    "y = dataset['Liked'].values\n",
    "y.shape"
   ]
  },
  {
   "cell_type": "code",
   "execution_count": 4,
   "id": "34916645",
   "metadata": {},
   "outputs": [
    {
     "data": {
      "text/plain": [
       "'Wow... Loved this place.'"
      ]
     },
     "execution_count": 4,
     "metadata": {},
     "output_type": "execute_result"
    }
   ],
   "source": [
    "dataset['Review'][0]"
   ]
  },
  {
   "cell_type": "markdown",
   "id": "227209a3",
   "metadata": {},
   "source": [
    "### Data preparation"
   ]
  },
  {
   "cell_type": "code",
   "execution_count": 5,
   "id": "ab14e3a9",
   "metadata": {},
   "outputs": [
    {
     "data": {
      "text/plain": [
       "['wow    loved this place ',\n",
       " 'crust is not good ',\n",
       " 'not tasty and the texture was just nasty ',\n",
       " 'stopped by during the late may bank holiday off rick steve recommendation and loved it ',\n",
       " 'the selection on the menu was great and so were the prices ']"
      ]
     },
     "execution_count": 5,
     "metadata": {},
     "output_type": "execute_result"
    }
   ],
   "source": [
    "import re\n",
    "corpus = []\n",
    "for i in range(0, 1000):\n",
    "    review = re.sub('[^a-zA-Z]', ' ', dataset['Review'][i])\n",
    "    review = review.lower()\n",
    "    #review = review.split()\n",
    "    corpus.append(review)\n",
    "    \n",
    "corpus[:5]"
   ]
  },
  {
   "cell_type": "markdown",
   "id": "0f29df08",
   "metadata": {},
   "source": [
    "### First approach - LSTM's"
   ]
  },
  {
   "cell_type": "code",
   "execution_count": 6,
   "id": "0bf9935d",
   "metadata": {},
   "outputs": [
    {
     "name": "stdout",
     "output_type": "stream",
     "text": [
      "word index dictionary: {'the': 1, 'and': 2, 'i': 3, 'was': 4, 'a': 5, 'to': 6, 'is': 7, 'it': 8, 'this': 9, 'of': 10, 'food': 11, 'not': 12, 'for': 13, 'in': 14, 'place': 15, 't': 16, 'good': 17, 'we': 18, 'service': 19, 'very': 20, 'my': 21, 'with': 22, 'great': 23, 'had': 24, 'that': 25, 'be': 26, 'so': 27, 'you': 28, 'were': 29, 'are': 30, 'but': 31, 'have': 32, 'back': 33, 'they': 34, 'here': 35, 'on': 36, 'at': 37, 'like': 38, 'go': 39, 'all': 40, 'time': 41, 's': 42, 'our': 43, 'will': 44, 'there': 45, 'as': 46, 'really': 47, 'just': 48, 'an': 49, 'their': 50, 'if': 51, 'best': 52, 'would': 53, 'ever': 54, 'also': 55, 'friendly': 56, 'up': 57, 'only': 58, 'never': 59, 'one': 60, 'don': 61, 'no': 62, 'your': 63, 'restaurant': 64, 'out': 65, 'nice': 66, 'been': 67, 'what': 68, 'amazing': 69, 'again': 70, 'can': 71, 'from': 72, 'delicious': 73, 've': 74, 'vegas': 75, 'did': 76, 'by': 77, 'which': 78, 'm': 79, 'pretty': 80, 'some': 81, 'me': 82, 'came': 83, 'when': 84, 'experience': 85, 'staff': 86, 'get': 87, 'he': 88, 'eat': 89, 'us': 90, 'minutes': 91, 'definitely': 92, 'love': 93, 'even': 94, 'or': 95, 'disappointed': 96, 'won': 97, 'bad': 98, 'much': 99, 'got': 100, 'going': 101, 'made': 102, 'chicken': 103, 'first': 104, 'more': 105, 'about': 106, 'could': 107, 'say': 108, 'think': 109, 'better': 110, 'menu': 111, 'too': 112, 'salad': 113, 'has': 114, 'worst': 115, 'stars': 116, 'always': 117, 'way': 118, 'than': 119, 'well': 120, 'how': 121, 'pizza': 122, 'fresh': 123, 'being': 124, 'because': 125, 'quality': 126, 'ordered': 127, 'wait': 128, 'other': 129, 'steak': 130, 'them': 131, 'want': 132, 'didn': 133, 'taste': 134, 'server': 135, 'went': 136, 'times': 137, 'll': 138, 'sushi': 139, 'wasn': 140, 'flavor': 141, 'now': 142, 'burger': 143, 'do': 144, 'enough': 145, 'any': 146, 'after': 147, 'over': 148, 'everything': 149, 'fantastic': 150, 'night': 151, 'awesome': 152, 'tasty': 153, 'still': 154, 'slow': 155, 'feel': 156, 'down': 157, 'buffet': 158, 'bland': 159, 'meal': 160, 'next': 161, 'atmosphere': 162, 'know': 163, 'come': 164, 'order': 165, 'recommend': 166, 'loved': 167, 'selection': 168, 'prices': 169, 'little': 170, 'worth': 171, 'sauce': 172, 'lunch': 173, 'coming': 174, 'breakfast': 175, 'another': 176, 'excellent': 177, 'waited': 178, 'probably': 179, 'terrible': 180, 'perfect': 181, 'off': 182, 'fries': 183, 'right': 184, 'every': 185, 'table': 186, 'people': 187, 'sandwich': 188, 'before': 189, 'd': 190, 'give': 191, 'meat': 192, 'dishes': 193, 'many': 194, 'clean': 195, 'day': 196, 'she': 197, 'hot': 198, 'soon': 199, 'cold': 200, 'then': 201, 'getting': 202, 'sure': 203, 'waitress': 204, 'took': 205, 'around': 206, 'beer': 207, 'overall': 208, 'thing': 209, 'absolutely': 210, 'dish': 211, 'quite': 212, 'eating': 213, 'both': 214, 'try': 215, 'dining': 216, 'spicy': 217, 'bit': 218, 'who': 219, 'said': 220, 'spot': 221, 'rude': 222, 'since': 223, 'impressed': 224, 'while': 225, 'take': 226, 'felt': 227, 'make': 228, 'few': 229, 'two': 230, 'happy': 231, 'tasted': 232, 'overpriced': 233, 'tried': 234, 'warm': 235, 'deal': 236, 'found': 237, 'lot': 238, 'waiter': 239, 'attentive': 240, 'cooked': 241, 'side': 242, 'inside': 243, 'wonderful': 244, 'nothing': 245, 'town': 246, 'price': 247, 'check': 248, 'ambiance': 249, 'seriously': 250, 'must': 251, 'area': 252, 'once': 253, 'chips': 254, 'special': 255, 'far': 256, 'family': 257, 'bar': 258, 'super': 259, 'am': 260, 'pho': 261, 'tell': 262, 'hour': 263, 'poor': 264, 'shrimp': 265, 'tender': 266, 'hard': 267, 'left': 268, 'his': 269, 'horrible': 270, 'each': 271, 'enjoy': 272, 'should': 273, 'customer': 274, 'potato': 275, 'where': 276, 're': 277, 'served': 278, 'mediocre': 279, 'management': 280, 'done': 281, 'last': 282, 'her': 283, 'small': 284, 'see': 285, 'either': 286, 'money': 287, 'twice': 288, 'authentic': 289, 'dinner': 290, 'during': 291, 'may': 292, 'kept': 293, 'asked': 294, 'tables': 295, 'quick': 296, 'portions': 297, 'these': 298, 'sick': 299, 'dessert': 300, 'beef': 301, 'outside': 302, 'talk': 303, 'huge': 304, 'servers': 305, 'seafood': 306, 'pasta': 307, 'tasteless': 308, 'fish': 309, 'sweet': 310, 'old': 311, 'disappointing': 312, 'real': 313, 'thai': 314, 'eaten': 315, 'places': 316, 'thought': 317, 'away': 318, 'hit': 319, 'waste': 320, 'return': 321, 'extremely': 322, 'seated': 323, 'avoid': 324, 'full': 325, 'bacon': 326, 'zero': 327, 'sat': 328, 'ice': 329, 'bread': 330, 'home': 331, 'things': 332, 'waiting': 333, 'friend': 334, 'fast': 335, 'wrong': 336, 'fried': 337, 'expect': 338, 'reasonable': 339, 'enjoyed': 340, 'anytime': 341, 'new': 342, 'bring': 343, 'long': 344, 'barely': 345, 'damn': 346, 'highly': 347, 'tacos': 348, 'running': 349, 'salmon': 350, 'look': 351, 'elsewhere': 352, 'visit': 353, 'establishment': 354, 'rare': 355, 'husband': 356, 'heart': 357, 'least': 358, 'drinks': 359, 'rice': 360, 'today': 361, 'ask': 362, 'everyone': 363, 'yummy': 364, 'helpful': 365, 'beat': 366, 'wine': 367, 'trip': 368, 'kind': 369, 'steaks': 370, 'leave': 371, 'pork': 372, 'burgers': 373, 'cream': 374, 'fact': 375, 'drink': 376, 'itself': 377, 'considering': 378, 'thumbs': 379, 'pay': 380, 'bay': 381, 'piece': 382, 'unfortunately': 383, 'phoenix': 384, 'sad': 385, 'something': 386, 'incredible': 387, 'sucked': 388, 'wings': 389, 'live': 390, 'drive': 391, 'though': 392, 'business': 393, 'someone': 394, 'folks': 395, 'fun': 396, 'chef': 397, 'possible': 398, 'close': 399, 'owner': 400, 'job': 401, 'tea': 402, 'why': 403, 'location': 404, 'gave': 405, 'high': 406, 'house': 407, 'friends': 408, 'dirty': 409, 'vegetables': 410, 'large': 411, 'soup': 412, 'options': 413, 'disappointment': 414, 'needs': 415, 'owners': 416, 'manager': 417, 'thin': 418, 'dry': 419, 'average': 420, 'wow': 421, 'texture': 422, 'nasty': 423, 'recommendation': 424, 'potatoes': 425, 'under': 426, 'care': 427, 'recommended': 428, 'let': 429, 'beautiful': 430, 'brought': 431, 'wall': 432, 'totally': 433, 'sashimi': 434, 'yourself': 435, 'sucks': 436, 'moist': 437, 'sides': 438, 'frozen': 439, 'greek': 440, 'dressing': 441, 'pita': 442, 'hummus': 443, 'duck': 444, 'flat': 445, 'amount': 446, 'perfectly': 447, 'water': 448, 'second': 449, 'salt': 450, 'chewy': 451, 'expected': 452, 'min': 453, 'guess': 454, 'walked': 455, 'rolls': 456, 'oh': 457, 'party': 458, 'mouth': 459, 'tip': 460, 'arrived': 461, 'quickly': 462, 'cafe': 463, 'wife': 464, 'ambience': 465, 'music': 466, 'honest': 467, 'busy': 468, 'although': 469, 'liked': 470, 'fine': 471, 'wouldn': 472, 'strip': 473, 'delish': 474, 'melt': 475, 'cheese': 476, 'subway': 477, 'restaurants': 478, 'empty': 479, 'checked': 480, 'ate': 481, 'watched': 482, 'stale': 483, 'different': 484, 'several': 485, 'years': 486, 'ago': 487, 'immediately': 488, 'priced': 489, 'hands': 490, 'treated': 491, 'literally': 492, 'used': 493, 'vegetarian': 494, 'reviews': 495, 'healthy': 496, 'lacking': 497, 'interesting': 498, 'decor': 499, 'butter': 500, 'egg': 501, 'dog': 502, 'insulted': 503, 'hope': 504, 'brunch': 505, 'white': 506, 'soggy': 507, 'unless': 508, 'lobster': 509, 'course': 510, 'none': 511, 'stop': 512, 'isn': 513, 'world': 514, 'couple': 515, 'yet': 516, 'couldn': 517, 'point': 518, 'flavorful': 519, 'par': 520, 'received': 521, 'generous': 522, 'patio': 523, 'outstanding': 524, 'pizzas': 525, 'pulled': 526, 'star': 527, 'please': 528, 'review': 529, 'stay': 530, 'favorite': 531, 'especially': 532, 'mom': 533, 'pleasant': 534, 'pleased': 535, 'equally': 536, 'bathroom': 537, 'door': 538, 'cool': 539, 'else': 540, 'find': 541, 'deserves': 542, 'stomach': 543, 'green': 544, 'beans': 545, 'told': 546, 'total': 547, 'regular': 548, 'until': 549, 'big': 550, 'rather': 551, 'bill': 552, 'worse': 553, 'meals': 554, 'homemade': 555, 'such': 556, 'gone': 557, 'those': 558, 'need': 559, 'desserts': 560, 'boyfriend': 561, 'room': 562, 'maybe': 563, 'believe': 564, 'setting': 565, 'wanted': 566, 'ok': 567, 'half': 568, 'list': 569, 'vibe': 570, 'him': 571, 'edible': 572, 'seating': 573, 'style': 574, 'salsa': 575, 'awful': 576, 'lacked': 577, 'crust': 578, 'stopped': 579, 'late': 580, 'touch': 581, 'cashier': 582, 'ended': 583, 'mmmm': 584, 'human': 585, 'hair': 586, 'cute': 587, 'red': 588, 'stuff': 589, 'mexican': 590, 'overwhelmed': 591, 'decent': 592, 'seems': 593, 'bite': 594, 'familiar': 595, 'favor': 596, 'inexpensive': 597, 'delight': 598, 'into': 599, 'judge': 600, 'grossed': 601, 'note': 602, 'behind': 603, 'char': 604, 'realized': 605, 'attitudes': 606, 'towards': 607, 'customers': 608, 'portion': 609, 'attack': 610, 'grill': 611, 'downtown': 612, 'excuse': 613, 'scallop': 614, 'ripped': 615, 'refill': 616, 'appetizers': 617, 'glad': 618, 'heard': 619, 'batter': 620, 'finish': 621, 'above': 622, 'beyond': 623, 'meh': 624, 'known': 625, 'suck': 626, 'use': 627, 'value': 628, 'seasoned': 629, 'wasting': 630, 'opportunity': 631, 'company': 632, 'underwhelming': 633, 'person': 634, 'break': 635, 'grease': 636, 'others': 637, 'roast': 638, 'sugary': 639, 'six': 640, 'year': 641, 'die': 642, 'bye': 643, 'lady': 644, 'serves': 645, 'roasted': 646, 'garlic': 647, 'marrow': 648, 'added': 649, 'extra': 650, 'mary': 651, 'cannot': 652, 'bartender': 653, 'playing': 654, 'lovers': 655, 'passed': 656, 'between': 657, 'gross': 658, 'preparing': 659, 'indian': 660, 'boot': 661, 'word': 662, 'belly': 663, 'crispy': 664, 'wrap': 665, 'tuna': 666, 'bagels': 667, 'selections': 668, 'bars': 669, 'dine': 670, 'rarely': 671, 'curry': 672, 'top': 673, 'bathrooms': 674, 'decorated': 675, 'pace': 676, 'greeted': 677, 'joint': 678, 'cut': 679, 'bakery': 680, 'reasonably': 681, 'looking': 682, 'ladies': 683, 'hip': 684, 'overcooked': 685, 'charcoal': 686, 'decided': 687, 'looked': 688, 'dirt': 689, 'station': 690, 'watch': 691, 'gyros': 692, 'feeling': 693, 'valley': 694, 'bowl': 695, 'disrespected': 696, 'stepped': 697, 'gold': 698, 'puree': 699, 'bug': 700, 'given': 701, 'shower': 702, 'mind': 703, 'bisque': 704, 'filet': 705, 'needed': 706, 'pepper': 707, 'cook': 708, 'dealing': 709, 'double': 710, 'cheeseburger': 711, 'single': 712, 'yum': 713, 'mayo': 714, 'honestly': 715, 'stayed': 716, 'almost': 717, 'building': 718, 'dark': 719, 'set': 720, 'sub': 721, 'creamy': 722, 'similar': 723, 'complaints': 724, 'sticks': 725, 'tap': 726, 'plus': 727, 'bucks': 728, 'coffee': 729, 'cant': 730, 'boba': 731, 'taco': 732, 'bachi': 733, 'salads': 734, 'hate': 735, 'hours': 736, 'later': 737, 'neighborhood': 738, 'convenient': 739, 'soooo': 740, 'third': 741, 'stir': 742, 'summer': 743, 'delightful': 744, 'toasted': 745, 'boy': 746, 'hand': 747, 'basically': 748, 'joke': 749, 'fare': 750, 'pricing': 751, 'without': 752, 'doubt': 753, 'black': 754, 'serve': 755, 'seen': 756, 'bites': 757, 'omg': 758, 'feels': 759, 'brick': 760, 'oven': 761, 'multiple': 762, 'ten': 763, 'finally': 764, 'pancakes': 765, 'eggs': 766, 'treat': 767, 'evening': 768, 'life': 769, 'lukewarm': 770, 'comfortable': 771, 'eggplant': 772, 'fry': 773, 'part': 774, 'happened': 775, 'car': 776, 'front': 777, 'anyone': 778, 'stuffed': 779, 'mall': 780, 'kids': 781, 'lots': 782, 'perfection': 783, 'impeccable': 784, 'simply': 785, 'pop': 786, 'assure': 787, 'trying': 788, 'completely': 789, 'become': 790, 'professional': 791, 'end': 792, 'mistake': 793, 'nicest': 794, 'biscuits': 795, 'cow': 796, 'anyway': 797, 'week': 798, 'combination': 799, 'driest': 800, 'tots': 801, 'paid': 802, 'acknowledged': 803, 'margaritas': 804, 'disappoint': 805, 'flower': 806, 'group': 807, 'crab': 808, 'legs': 809, 'sliced': 810, 'dont': 811, 'bunch': 812, 'filling': 813, 'lovely': 814, 'whole': 815, 'choose': 816, 'entrees': 817, 'actually': 818, 'recent': 819, 'however': 820, 'tapas': 821, 'vinegrette': 822, 'baby': 823, 'disgusting': 824, 'helped': 825, 'recently': 826, 'fan': 827, 'rated': 828, 'cheap': 829, 'presentation': 830, 'color': 831, 'sitting': 832, 'fairly': 833, 'satisfying': 834, 'its': 835, 'grilled': 836, 'means': 837, 'non': 838, 'focused': 839, 'guy': 840, 'same': 841, 'promise': 842, 'italian': 843, 'legit': 844, 'staying': 845, 'work': 846, 'fail': 847, 'plate': 848, 'needless': 849, 'serving': 850, 'longer': 851, 'orders': 852, 'simple': 853, 'fly': 854, 'chinese': 855, 'paper': 856, 'anything': 857, 'complain': 858, 'crowd': 859, 'mid': 860, 'definately': 861, 'low': 862, 'bother': 863, 'offers': 864, 'flavorless': 865, 'nachos': 866, 'does': 867, 'crazy': 868, 'tribute': 869, 'fell': 870, 'services': 871, 'heat': 872, 'started': 873, 'aren': 874, 'three': 875, 'spend': 876, 'lost': 877, 'undercooked': 878, 'seemed': 879, 'bank': 880, 'holiday': 881, 'rick': 882, 'steve': 883, 'angry': 884, 'honeslty': 885, 'rubber': 886, 'ahead': 887, 'warmer': 888, 'prompt': 889, 'wayyy': 890, 'cape': 891, 'cod': 892, 'ravoli': 893, 'cranberry': 894, 'disgusted': 895, 'shocked': 896, 'signs': 897, 'indicate': 898, 'cash': 899, 'alone': 900, 'burrittos': 901, 'blah': 902, 'less': 903, 'interior': 904, 'performed': 905, 'velvet': 906, 'cake': 907, 'ohhh': 908, 'hole': 909, 'street': 910, 'luke': 911, 'sever': 912, 'combos': 913, 'final': 914, 'blow': 915, 'accident': 916, 'happier': 917, 'grab': 918, 'pub': 919, 'redeeming': 920, 'ample': 921, 'stupid': 922, 'hiro': 923, 'drag': 924, 'whether': 925, 'melted': 926, 'styrofoam': 927, 'fear': 928, 'positive': 929, 'provided': 930, 'pucks': 931, 'disgust': 932, 'register': 933, 'prime': 934, 'rib': 935, 'section': 936, 'generic': 937, 'firehouse': 938, 'refreshing': 939, 'pink': 940, 'sunglasses': 941, 'chow': 942, 'mein': 943, 'imaginative': 944, 'lined': 945, 'strings': 946, 'bottom': 947, 'power': 948, 'banana': 949, 'petrified': 950, 'struggle': 951, 'wave': 952, 'receives': 953, 'cocktails': 954, 'handmade': 955, 'military': 956, 'discount': 957, 'dos': 958, 'gringos': 959, 'update': 960, 'apparently': 961, 'included': 962, 'tastings': 963, 'jeff': 964, 'milkshake': 965, 'chocolate': 966, 'milk': 967, 'excalibur': 968, 'common': 969, 'sense': 970, 'appalling': 971, 'cheated': 972, 'experiencing': 973, 'relationship': 974, 'parties': 975, 'smelled': 976, 'trap': 977, 'turkey': 978, 'pan': 979, 'cakes': 980, 'raving': 981, 'disaster': 982, 'tailored': 983, 'palate': 984, 'spring': 985, 'ratio': 986, 'tenders': 987, 'unsatisfying': 988, 'omelets': 989, 'summary': 990, 'largely': 991, 'sexy': 992, 'outrageously': 993, 'flirting': 994, 'hottest': 995, 'rock': 996, 'casino': 997, 'step': 998, 'forward': 999, 'loves': 1000, 'bone': 1001, 'bloddy': 1002, 'mussels': 1003, 'reduction': 1004, 'buffets': 1005, 'tigerlilly': 1006, 'afternoon': 1007, 'personable': 1008, 'sooooo': 1009, 'yama': 1010, 'ordering': 1011, 'arriving': 1012, 'mess': 1013, 'sound': 1014, 'actual': 1015, 'managed': 1016, 'blandest': 1017, 'cuisine': 1018, 'worries': 1019, 'guys': 1020, 'loving': 1021, 'son': 1022, 'venture': 1023, 'further': 1024, 'host': 1025, 'lack': 1026, 'bitches': 1027, 'liking': 1028, 'number': 1029, 'reasons': 1030, 'reviewing': 1031, 'phenomenal': 1032, 'venturing': 1033, 'penne': 1034, 'vodka': 1035, 'including': 1036, 'massive': 1037, 'meatloaf': 1038, 'nyc': 1039, 'lox': 1040, 'capers': 1041, 'meet': 1042, 'expectations': 1043, 'solid': 1044, 'weekend': 1045, 'suggestions': 1046, 'bamboo': 1047, 'shoots': 1048, 'blanket': 1049, 'moz': 1050, 'cover': 1051, 'subpar': 1052, 'changing': 1053, 'attention': 1054, 'ignore': 1055, 'fianc': 1056, 'middle': 1057, 'mandalay': 1058, 'forty': 1059, 'five': 1060, 'vain': 1061, 'crostini': 1062, 'highlights': 1063, 'nigiri': 1064, 'flavored': 1065, 'voodoo': 1066, 'gluten': 1067, 'free': 1068, 'leftover': 1069, 'relocated': 1070, 'diverse': 1071, 'cost': 1072, 'metro': 1073, 'hella': 1074, 'salty': 1075, 'spinach': 1076, 'avocado': 1077, 'ingredients': 1078, 'menus': 1079, 'handed': 1080, 'listed': 1081, 'waitresses': 1082, 'lordy': 1083, 'khao': 1084, 'soi': 1085, 'missed': 1086, 'terrific': 1087, 'thrilled': 1088, 'accommodations': 1089, 'daughter': 1090, 'perhaps': 1091, 'caught': 1092, 'judging': 1093, 'inspired': 1094, 'leaves': 1095, 'desired': 1096, 'modern': 1097, 'maintaining': 1098, 'coziness': 1099, 'weekly': 1100, 'haunt': 1101, 'asking': 1102, 'send': 1103, 'verge': 1104, 'having': 1105, 'dressed': 1106, 'rudely': 1107, 'hits': 1108, 'quantity': 1109, 'lemon': 1110, 'raspberry': 1111, 'cocktail': 1112, 'imagined': 1113, 'crepe': 1114, 'bits': 1115, 'original': 1116, 'missing': 1117, 'satisfied': 1118, 'joey': 1119, 'voted': 1120, 'readers': 1121, 'magazine': 1122, 'fridays': 1123, 'blows': 1124, 'exceeding': 1125, 'dreamed': 1126, 'serivce': 1127, 'help': 1128, 'inviting': 1129, 'lived': 1130, 'foot': 1131, 'mixed': 1132, 'mushrooms': 1133, 'yukon': 1134, 'corn': 1135, 'beateous': 1136, 'showed': 1137, 'climbing': 1138, 'kitchen': 1139, 'tartar': 1140, 'jamaican': 1141, 'mojitos': 1142, 'rich': 1143, 'accordingly': 1144, 'rinse': 1145, 'nude': 1146, 'bussell': 1147, 'sprouts': 1148, 'risotto': 1149, 'hopefully': 1150, 'bodes': 1151, 'wrapped': 1152, 'dates': 1153, 'unbelievable': 1154, 'bargain': 1155, 'otto': 1156, 'welcome': 1157, 'mains': 1158, 'uninspired': 1159, 'whenever': 1160, 'annoying': 1161, 'drunk': 1162, 'patty': 1163, 'falling': 1164, 'apart': 1165, 'picture': 1166, 'uploaded': 1167, 'yeah': 1168, 'sporting': 1169, 'events': 1170, 'walls': 1171, 'covered': 1172, 'tv': 1173, 'descriptions': 1174, 'eel': 1175, 'sauces': 1176, 'hardest': 1177, 'decision': 1178, 'supposed': 1179, 'rolled': 1180, 'eyes': 1181, 'providing': 1182, 'flavourful': 1183, 'freezing': 1184, 'reviewer': 1185, 'delights': 1186, 'ayce': 1187, 'lighting': 1188, 'mood': 1189, 'based': 1190, 'effort': 1191, 'show': 1192, 'gratitude': 1193, 'privileged': 1194, 'working': 1195, 'parents': 1196, 'most': 1197, 'silently': 1198, 'peanut': 1199, 'godfathers': 1200, 'tough': 1201, 'short': 1202, 'recall': 1203, 'charged': 1204, 'exquisite': 1205, 'thus': 1206, 'visited': 1207, 'self': 1208, 'proclaimed': 1209, 'wildly': 1210, 'veggitarian': 1211, 'platter': 1212, 'madison': 1213, 'ironman': 1214, 'chefs': 1215, 'dedicated': 1216, 'spots': 1217, 'jenni': 1218, 'goat': 1219, 'skimp': 1220, 'mac': 1221, 'stinks': 1222, 'burned': 1223, 'saganaki': 1224, 'disagree': 1225, 'fellow': 1226, 'yelpers': 1227, 'incredibly': 1228, 'prepared': 1229, 'rating': 1230, 'writing': 1231, 'noodles': 1232, 'chip': 1233, 'count': 1234, 'box': 1235, 'boring': 1236, 'greedy': 1237, 'corporation': 1238, 'dime': 1239, 'atrocious': 1240, 'charming': 1241, 'outdoor': 1242, 'english': 1243, 'muffin': 1244, 'untoasted': 1245, 'bus': 1246, 'figured': 1247, 'making': 1248, 'publicly': 1249, 'loudly': 1250, 'bbq': 1251, 'lighter': 1252, 'public': 1253, 'ways': 1254, 'downside': 1255, 'exceptional': 1256, 'months': 1257, 'returned': 1258, 'shawarrrrrrma': 1259, 'eyed': 1260, 'peas': 1261, 'unreal': 1262, 'vinaigrette': 1263, 'honor': 1264, 'hut': 1265, 'coupons': 1266, 'truly': 1267, 'unbelievably': 1268, 'seat': 1269, 'covers': 1270, 'replenished': 1271, 'plain': 1272, 'yucky': 1273, 'standard': 1274, 'delicioso': 1275, 'spaghetti': 1276, 'whatsoever': 1277, 'driving': 1278, 'tucson': 1279, 'chipotle': 1280, 'classy': 1281, 'succulent': 1282, 'baseball': 1283, 'app': 1284, 'shouldn': 1285, 'genuinely': 1286, 'enthusiastic': 1287, 'sadly': 1288, 'gordon': 1289, 'ramsey': 1290, 'shall': 1291, 'sharply': 1292, 'offered': 1293, 'turn': 1294, 'buying': 1295, 'handling': 1296, 'rowdy': 1297, 'despicable': 1298, 'craving': 1299, 'ache': 1300, 'rest': 1301, 'dropped': 1302, 'ball': 1303, 'space': 1304, 'tiny': 1305, 'elegantly': 1306, 'customize': 1307, 'usual': 1308, 'bean': 1309, 'outta': 1310, 'inconsiderate': 1311, 'says': 1312, 'hi': 1313, 'dinners': 1314, 'outshining': 1315, 'halibut': 1316, 'breaks': 1317, 'starving': 1318, 'disgrace': 1319, 'def': 1320, 'ethic': 1321, 'continue': 1322, 'andddd': 1323, 'date': 1324, 'past': 1325, 'located': 1326, 'crystals': 1327, 'shopping': 1328, 'aria': 1329, 'summarize': 1330, 'nay': 1331, 'transcendant': 1332, 'brings': 1333, 'joy': 1334, 'memory': 1335, 'pneumatic': 1336, 'condiment': 1337, 'dispenser': 1338, 'ians': 1339, 'kiddos': 1340, 'bouchon': 1341, 'accountant': 1342, 'screwed': 1343, 'reminds': 1344, 'shops': 1345, 'san': 1346, 'francisco': 1347, 'buldogis': 1348, 'gourmet': 1349, 'frustrated': 1350, 'petty': 1351, 'iced': 1352, 'hungry': 1353, 'teeth': 1354, 'sore': 1355, 'companions': 1356, 'ground': 1357, 'smeared': 1358, 'tracked': 1359, 'everywhere': 1360, 'pile': 1361, 'bird': 1362, 'poop': 1363, 'furthermore': 1364, 'operation': 1365, 'website': 1366, 'expert': 1367, 'connisseur': 1368, 'topic': 1369, 'jerk': 1370, 'strike': 1371, 'wants': 1372, 'rushed': 1373, 'across': 1374, 'appetizer': 1375, 'absolutley': 1376, 'awkward': 1377, 'lb': 1378, 'ths': 1379, 'gristle': 1380, 'fat': 1381, 'steiners': 1382, 'dollars': 1383, 'fs': 1384, 'mention': 1385, 'pears': 1386, 'almonds': 1387, 'winner': 1388, 'spicier': 1389, 'prefer': 1390, 'ribeye': 1391, 'mesquite': 1392, 'gooodd': 1393, 'connoisseur': 1394, 'difference': 1395, 'certainly': 1396, 'contained': 1397, 'mouthful': 1398, 'enjoyable': 1399, 'relaxed': 1400, 'venue': 1401, 'couples': 1402, 'groups': 1403, 'etc': 1404, 'nargile': 1405, 'tater': 1406, 'southwest': 1407, 'vanilla': 1408, 'smooth': 1409, 'profiterole': 1410, 'choux': 1411, 'pastry': 1412, 'im': 1413, 'az': 1414, 'carly': 1415, 'due': 1416, 'forgetting': 1417, 'ventilation': 1418, 'upgrading': 1419, 'letdown': 1420, 'camelback': 1421, 'shop': 1422, 'cartel': 1423, 'trimmed': 1424, 'claimed': 1425, 'handled': 1426, 'beautifully': 1427, 'jewel': 1428, 'las': 1429, 'exactly': 1430, 'hoping': 1431, 'nearly': 1432, 'living': 1433, 'limited': 1434, 'boiled': 1435, 'toro': 1436, 'tartare': 1437, 'cavier': 1438, 'extraordinary': 1439, 'thinly': 1440, 'wagyu': 1441, 'truffle': 1442, 'attached': 1443, 'gas': 1444, 'sign': 1445, 'decide': 1446, 'humiliated': 1447, 'worker': 1448, 'name': 1449, 'callings': 1450, 'conclusion': 1451, 'daily': 1452, 'specials': 1453, 'tragedy': 1454, 'struck': 1455, 'pancake': 1456, 'crawfish': 1457, 'monster': 1458, 'funny': 1459, 'multi': 1460, 'grain': 1461, 'pumpkin': 1462, 'pecan': 1463, 'fluffy': 1464, 'airline': 1465, 'noca': 1466, 'gyro': 1467, 'lettuce': 1468, 'thoroughly': 1469, 'pastas': 1470, 'cheesecurds': 1471, 'typical': 1472, 'glance': 1473, 'finger': 1474, 'item': 1475, 'beauty': 1476, 'haven': 1477, 'greasy': 1478, 'unhealthy': 1479, 'might': 1480, 'similarly': 1481, 'delivery': 1482, 'man': 1483, 'apology': 1484, 'expensive': 1485, 'pack': 1486, 'tiramisu': 1487, 'cannoli': 1488, 'sun': 1489, 'meats': 1490, 'experienced': 1491, 'frenchman': 1492, 'martini': 1493, 'opinion': 1494, 'gc': 1495, 'sample': 1496, 'thirty': 1497, 'vacant': 1498, 'yellowtail': 1499, 'carpaccio': 1500, 'strangers': 1501, 'hello': 1502, 'strange': 1503, 'donut': 1504, 'saving': 1505, 'disgraceful': 1506, 'particular': 1507, 'suffers': 1508, 'greens': 1509, 'hearts': 1510, 'palm': 1511, 'hankering': 1512, 'forth': 1513, 'consider': 1514, 'theft': 1515, 'eew': 1516, 'complete': 1517, 'overhaul': 1518, 'witnessed': 1519, 'guests': 1520, 'regularly': 1521, 'swung': 1522, 'deeply': 1523, 'efficient': 1524, 'sucker': 1525, 'olives': 1526, 'perpared': 1527, 'giant': 1528, 'slices': 1529, 'toast': 1530, 'lightly': 1531, 'dusted': 1532, 'powdered': 1533, 'sugar': 1534, 'play': 1535, 'fo': 1536, 'accomodate': 1537, 'vegan': 1538, 'veggie': 1539, 'crumby': 1540, 'pale': 1541, 'instead': 1542, 'croutons': 1543, 'trips': 1544, 'crema': 1545, 'caf': 1546, 'expanded': 1547, 'miss': 1548, 'wish': 1549, 'philadelphia': 1550, 'crisp': 1551, 'north': 1552, 'scottsdale': 1553, 'quit': 1554, 'soooooo': 1555, 'freaking': 1556, 'papers': 1557, 'reheated': 1558, 'wedges': 1559, 'sorry': 1560, 'absolute': 1561, 'tongue': 1562, 'cheek': 1563, 'bloody': 1564, 'despite': 1565, 'rate': 1566, 'businesses': 1567, 'yellow': 1568, 'saffron': 1569, 'seasoning': 1570, 'thru': 1571, 'somehow': 1572, 'luck': 1573, 'grandmother': 1574, 'ignored': 1575, 'hostess': 1576, 'myself': 1577, 'boys': 1578, 'four': 1579, 'blue': 1580, 'shirt': 1581, 'letting': 1582, 'drastically': 1583, 'caesar': 1584, 'promptly': 1585, 'madhouse': 1586, 'proven': 1587, 'dead': 1588, 'greatest': 1589, 'moods': 1590, 'macarons': 1591, 'insanely': 1592, 'informative': 1593, 'weren': 1594, 'somewhat': 1595, 'fails': 1596, 'deliver': 1597, 'plater': 1598, 'relax': 1599, 'sit': 1600, 'together': 1601, 'poorly': 1602, 'constructed': 1603, 'screams': 1604, 'book': 1605, 'somethat': 1606, 'duo': 1607, 'violinists': 1608, 'songs': 1609, 'requested': 1610, 'personally': 1611, 'baklava': 1612, 'falafels': 1613, 'baba': 1614, 'ganoush': 1615, 'mgm': 1616, 'courteous': 1617, 'eclectic': 1618, 'onion': 1619, 'rings': 1620, 'pictures': 1621, 'nobu': 1622, 'google': 1623, 'imagine': 1624, 'smashburger': 1625, 'lover': 1626, 'gem': 1627, 'plantains': 1628, 'giving': 1629, 'spends': 1630, 'talking': 1631, 'themselves': 1632, 'panna': 1633, 'cotta': 1634, 'flavors': 1635, 'slaw': 1636, 'drenched': 1637, 'piano': 1638, 'soundtrack': 1639, 'rge': 1640, 'fillet': 1641, 'relleno': 1642, 'sergeant': 1643, 'auju': 1644, 'hawaiian': 1645, 'breeze': 1646, 'mango': 1647, 'magic': 1648, 'pineapple': 1649, 'smoothies': 1650, 'mortified': 1651, 'anyways': 1652, 'dripping': 1653, 'mostly': 1654, 'hospitality': 1655, 'industry': 1656, 'paradise': 1657, 'refrained': 1658, 'recommending': 1659, 'cibo': 1660, 'mean': 1661, 'famous': 1662, 'mouths': 1663, 'bellies': 1664, 'reading': 1665, 'reminded': 1666, 'pros': 1667, 'dough': 1668, 'tonight': 1669, 'elk': 1670, 'hooked': 1671, 'classics': 1672, 'sorely': 1673, 'quaint': 1674, 'deliciously': 1675, 'compliments': 1676, 'thanks': 1677, 'dylan': 1678, 'tummy': 1679, 'gratuity': 1680, 'larger': 1681, 'apple': 1682, 'juice': 1683, 'han': 1684, 'nan': 1685, 'ryan': 1686, 'edinburgh': 1687, 'revisiting': 1688, 'naan': 1689, 'pine': 1690, 'nut': 1691, 'touched': 1692, 'airport': 1693, 'speedy': 1694, 'calligraphy': 1695, 'stood': 1696, 'begin': 1697, 'awkwardly': 1698, 'opened': 1699, 'guest': 1700, 'extensive': 1701, 'provides': 1702, 'wide': 1703, 'array': 1704, 'inflate': 1705, 'smaller': 1706, 'grow': 1707, 'rapidly': 1708, 'lil': 1709, 'fuzzy': 1710, 'fabulous': 1711, 'wontons': 1712, 'thick': 1713, 'level': 1714, 'spice': 1715, 'whelm': 1716, 'main': 1717, 'older': 1718, 'arepas': 1719, 'jalapeno': 1720, 'thats': 1721, 'shoe': 1722, 'leather': 1723, 'block': 1724, 'key': 1725, 'fancy': 1726, 'affordable': 1727, 'sour': 1728, 'soups': 1729, 'sunday': 1730, 'traditional': 1731, 'hunan': 1732, 'flair': 1733, 'bartenders': 1734, 'nutshell': 1735, 'restaraunt': 1736, 'smells': 1737, 'market': 1738, 'sewer': 1739, 'girlfriend': 1740, 'veal': 1741, 'satifying': 1742, 'join': 1743, 'club': 1744, 'via': 1745, 'email': 1746, 'likes': 1747, 'case': 1748, 'colder': 1749, 'describing': 1750, 'tepid': 1751, 'chains': 1752, 'easily': 1753, 'words': 1754, 'crowds': 1755, 'juries': 1756, 'lawyers': 1757, 'court': 1758, 'arrives': 1759, 'paying': 1760, 'looks': 1761, 'kid': 1762, 'wienerschnitzel': 1763, 'idea': 1764, 'classic': 1765, 'maine': 1766, 'roll': 1767, 'brother': 1768, 'law': 1769, 'works': 1770, 'hereas': 1771, 'event': 1772, 'held': 1773, 'pissd': 1774, 'surprise': 1775, 'golden': 1776, 'hopes': 1777, 'bruschetta': 1778, 'devine': 1779, 'employee': 1780, 'lastly': 1781, 'mozzarella': 1782, 'negligent': 1783, 'unwelcome': 1784, 'suggest': 1785, 'consistent': 1786, 'packed': 1787, 'seasonal': 1788, 'fruit': 1789, 'peach': 1790, 'officially': 1791, 'blown': 1792, 'put': 1793, 'plastic': 1794, 'containers': 1795, 'opposed': 1796, 'cramming': 1797, 'takeout': 1798, 'boxes': 1799, 'cr': 1800, 'pe': 1801, 'delicate': 1802, 'fair': 1803, 'kabuki': 1804, 'maria': 1805, 'surprised': 1806, 'article': 1807, 'read': 1808, 'spices': 1809, 'fucking': 1810, 'caballero': 1811, 'head': 1812, 'oysters': 1813, 'round': 1814, 'disbelief': 1815, 'qualified': 1816, 'version': 1817, 'foods': 1818, 'tolerance': 1819, 'polite': 1820, 'wash': 1821, 'otherwise': 1822, 'biscuit': 1823, 'hated': 1824, 'coconut': 1825, 'fella': 1826, 'huevos': 1827, 'rancheros': 1828, 'appealing': 1829, 'wines': 1830, 'pricey': 1831, 'temp': 1832, 'prepare': 1833, 'bare': 1834, 'gloves': 1835, 'deep': 1836, 'oil': 1837, 'pleasure': 1838, 'plethora': 1839, 'sandwiches': 1840, 'gets': 1841, 'seal': 1842, 'approval': 1843, 'light': 1844, 'college': 1845, 'cooking': 1846, 'class': 1847, 'editing': 1848, 'besides': 1849, 'costco': 1850, 'highlighted': 1851, 'unique': 1852, 'weird': 1853, 'hardly': 1854, 'grocery': 1855, 'store': 1856, 'japanese': 1857, 'dude': 1858, 'doughy': 1859, 'inch': 1860, 'wire': 1861, 'ourselves': 1862, 'albondigas': 1863, 'tomato': 1864, 'meatballs': 1865, 'occasions': 1866, 'medium': 1867, 'bloodiest': 1868, 'refused': 1869, 'anymore': 1870, 'killer': 1871, 'chai': 1872, 'latte': 1873, 'allergy': 1874, 'warnings': 1875, 'clue': 1876, 'contain': 1877, 'peanuts': 1878, 'mediterranean': 1879, 'rotating': 1880, 'beers': 1881, 'highlight': 1882, 'concern': 1883, 'mellow': 1884, 'mushroom': 1885, 'strawberry': 1886, 'unprofessional': 1887, 'loyal': 1888, 'patron': 1889, 'occasional': 1890, 'pats': 1891, 'bellagio': 1892, 'anticipated': 1893, 'weak': 1894, 'correct': 1895, 'bought': 1896, 'sals': 1897, 'returning': 1898, 'fav': 1899, 'unexperienced': 1900, 'employees': 1901, 'chickens': 1902, 'heads': 1903, 'call': 1904, 'steakhouse': 1905, 'properly': 1906, 'understand': 1907, 'concept': 1908, 'guacamole': 1909, 'pur': 1910, 'ed': 1911, 'postinos': 1912, 'poisoning': 1913, 'batch': 1914, 'thinking': 1915, 'yay': 1916, 'hilarious': 1917, 'christmas': 1918, 'eve': 1919, 'remember': 1920, 'biggest': 1921, 'entire': 1922, 'caring': 1923, 'teamwork': 1924, 'degree': 1925, 'ri': 1926, 'calamari': 1927, 'fondue': 1928, 'forever': 1929, 'ones': 1930, 'scene': 1931, 'denny': 1932, 'downright': 1933, 'waaaaaayyyyyyyyyy': 1934, 'saying': 1935, 'sangria': 1936, 'glass': 1937, 'ridiculous': 1938, 'brisket': 1939, 'neat': 1940, 'trippy': 1941, 'hurry': 1942, 'reservation': 1943, 'stretch': 1944, 'imagination': 1945, 'cashew': 1946, 'chipolte': 1947, 'ranch': 1948, 'dipping': 1949, 'sause': 1950, 'watered': 1951, 'workers': 1952, 'douchey': 1953, 'indoor': 1954, 'garden': 1955, 'con': 1956, 'spotty': 1957, 'neither': 1958, 'ensued': 1959, 'apologize': 1960, 'reason': 1961, 'fill': 1962, 'binge': 1963, 'drinking': 1964, 'carbs': 1965, 'insults': 1966, 'profound': 1967, 'deuchebaggery': 1968, 'smoke': 1969, 'solidify': 1970, 'combo': 1971, 'ala': 1972, 'cart': 1973, 'blame': 1974, 'placed': 1975, 'rave': 1976, 'del': 1977, 'avoided': 1978, 'hamburger': 1979, 'hell': 1980, 'gotten': 1981, 'ya': 1982, 'doing': 1983, 'shots': 1984, 'fireball': 1985, 'disapppointment': 1986, 'correction': 1987, 'heimer': 1988, 'putting': 1989, 'cause': 1990, 'owned': 1991, 'vomited': 1992, 'circumstances': 1993, 'tops': 1994, 'brownish': 1995, 'obviously': 1996, 'below': 1997, 'movies': 1998, 'ha': 1999, 'flop': 2000, 'problem': 2001, 'charge': 2002, 'bigger': 2003, 'unwrapped': 2004, 'mile': 2005, 'brushfire': 2006, 'impressive': 2007, 'hasn': 2008, 'closed': 2009, 'mirage': 2010, 'refried': 2011, 'dried': 2012, 'crusty': 2013, 'caterpillar': 2014, 'appetite': 2015, 'instantly': 2016, 'ninja': 2017, 'hadn': 2018, 'wasted': 2019, 'poured': 2020, 'wound': 2021, 'drawing': 2022}\n",
      "total words: 2023\n"
     ]
    }
   ],
   "source": [
    "# Initialize the Tokenizer class\n",
    "tokenizer = Tokenizer()\n",
    "\n",
    "# Generate the word index dictionary\n",
    "tokenizer.fit_on_texts(corpus)\n",
    "\n",
    "# Define the total words. You add 1 for the index `0` which is just the padding token.\n",
    "total_words = len(tokenizer.word_index) + 1\n",
    "\n",
    "print(f'word index dictionary: {tokenizer.word_index}')\n",
    "print(f'total words: {total_words}')"
   ]
  },
  {
   "cell_type": "code",
   "execution_count": 7,
   "id": "29dee9bd",
   "metadata": {},
   "outputs": [
    {
     "name": "stdout",
     "output_type": "stream",
     "text": [
      "[421, 167, 9, 15]\n",
      "[578, 7, 12, 17]\n",
      "[12, 153, 2, 1, 422, 4, 48, 423]\n",
      "[579, 77, 291, 1, 580, 292, 880, 881, 182, 882, 883, 424, 2, 167, 8]\n",
      "[1, 168, 36, 1, 111, 4, 23, 2, 27, 29, 1, 169]\n",
      "[142, 3, 260, 202, 884, 2, 3, 132, 21, 346, 261]\n",
      "[885, 8, 133, 16, 134, 25, 123]\n",
      "[1, 425, 29, 38, 886, 2, 28, 107, 262, 34, 24, 67, 102, 57, 887, 10, 41, 124, 293, 426, 5, 888]\n",
      "[1, 183, 29, 23, 112]\n",
      "[5, 23, 581]\n"
     ]
    }
   ],
   "source": [
    "for line in corpus[0:10]:\n",
    "    token_list = tokenizer.texts_to_sequences([line])[0]\n",
    "    print(token_list)\n"
   ]
  },
  {
   "cell_type": "code",
   "execution_count": 8,
   "id": "9e54992c",
   "metadata": {},
   "outputs": [
    {
     "data": {
      "text/plain": [
       "(1000, 32)"
      ]
     },
     "execution_count": 8,
     "metadata": {},
     "output_type": "execute_result"
    }
   ],
   "source": [
    "input_sequences = []\n",
    "for line in corpus:\n",
    "    token_list = tokenizer.texts_to_sequences([line])[0]\n",
    "    input_sequences.append(tokenizer.texts_to_sequences([line])[0])\n",
    "max_sequence_len = max([len(x) for x in input_sequences])\n",
    "input_sequences = np.array(pad_sequences(input_sequences, maxlen=max_sequence_len, padding='pre'))\n",
    "input_sequences.shape"
   ]
  },
  {
   "cell_type": "code",
   "execution_count": 9,
   "id": "71431189",
   "metadata": {},
   "outputs": [
    {
     "data": {
      "text/plain": [
       "array([[  0,   0,   0, ..., 167,   9,  15],\n",
       "       [  0,   0,   0, ...,   7,  12,  17],\n",
       "       [  0,   0,   0, ...,   4,  48, 423],\n",
       "       ...,\n",
       "       [  0,   0,   0, ...,  12,  39,  33],\n",
       "       [  0,   0,   0, ..., 139, 161,  41],\n",
       "       [  0,   0,   0, ..., 343,   1, 248]])"
      ]
     },
     "execution_count": 9,
     "metadata": {},
     "output_type": "execute_result"
    }
   ],
   "source": [
    "input_sequences"
   ]
  },
  {
   "cell_type": "code",
   "execution_count": 10,
   "id": "59580b50",
   "metadata": {},
   "outputs": [
    {
     "name": "stdout",
     "output_type": "stream",
     "text": [
      "Model: \"sequential\"\n",
      "_________________________________________________________________\n",
      " Layer (type)                Output Shape              Param #   \n",
      "=================================================================\n",
      " embedding (Embedding)       (None, 32, 64)            129472    \n",
      "                                                                 \n",
      " lstm (LSTM)                 (None, 64)                33024     \n",
      "                                                                 \n",
      " dense (Dense)               (None, 1)                 65        \n",
      "                                                                 \n",
      "=================================================================\n",
      "Total params: 162,561\n",
      "Trainable params: 162,561\n",
      "Non-trainable params: 0\n",
      "_________________________________________________________________\n"
     ]
    }
   ],
   "source": [
    "# Hyperparameters\n",
    "embedding_dim = 64\n",
    "lstm_units = 64\n",
    "learning_rate = 0.001\n",
    "\n",
    "# Build the model\n",
    "model = Sequential([\n",
    "          Embedding(total_words, embedding_dim, input_length=max_sequence_len),\n",
    "          #Bidirectional(LSTM(lstm_units)),\n",
    "          LSTM(lstm_units),\n",
    "          Dense(1, activation='sigmoid')\n",
    "])\n",
    "\n",
    "# Use categorical crossentropy because this is a multi-class problem\n",
    "model.compile(\n",
    "    loss='binary_crossentropy', \n",
    "    optimizer=tf.keras.optimizers.Adam(learning_rate=learning_rate), \n",
    "    metrics=['accuracy']\n",
    "    )\n",
    "\n",
    "# Print the model summary\n",
    "model.summary()"
   ]
  },
  {
   "cell_type": "code",
   "execution_count": 11,
   "id": "23e582ca",
   "metadata": {},
   "outputs": [
    {
     "name": "stdout",
     "output_type": "stream",
     "text": [
      "Epoch 1/10\n",
      "32/32 [==============================] - 3s 19ms/step - loss: 0.6884 - accuracy: 0.5390\n",
      "Epoch 2/10\n",
      "32/32 [==============================] - 1s 19ms/step - loss: 0.5859 - accuracy: 0.7680\n",
      "Epoch 3/10\n",
      "32/32 [==============================] - 1s 18ms/step - loss: 0.3404 - accuracy: 0.8920\n",
      "Epoch 4/10\n",
      "32/32 [==============================] - 1s 18ms/step - loss: 0.1787 - accuracy: 0.9490\n",
      "Epoch 5/10\n",
      "32/32 [==============================] - 1s 19ms/step - loss: 0.1069 - accuracy: 0.9770\n",
      "Epoch 6/10\n",
      "32/32 [==============================] - 1s 19ms/step - loss: 0.0645 - accuracy: 0.9840\n",
      "Epoch 7/10\n",
      "32/32 [==============================] - 1s 18ms/step - loss: 0.0452 - accuracy: 0.9920\n",
      "Epoch 8/10\n",
      "32/32 [==============================] - 1s 18ms/step - loss: 0.0375 - accuracy: 0.9910\n",
      "Epoch 9/10\n",
      "32/32 [==============================] - 1s 18ms/step - loss: 0.0272 - accuracy: 0.9970\n",
      "Epoch 10/10\n",
      "32/32 [==============================] - 1s 19ms/step - loss: 0.0350 - accuracy: 0.9900\n"
     ]
    }
   ],
   "source": [
    "tf.keras.backend.clear_session()\n",
    "\n",
    "epochs = 10\n",
    "\n",
    "# Train the model\n",
    "history = model.fit(input_sequences, y, epochs=epochs)"
   ]
  },
  {
   "cell_type": "code",
   "execution_count": 12,
   "id": "ae32fdeb",
   "metadata": {},
   "outputs": [
    {
     "data": {
      "text/plain": [
       "[<matplotlib.lines.Line2D at 0x20fa6925b50>]"
      ]
     },
     "execution_count": 12,
     "metadata": {},
     "output_type": "execute_result"
    },
    {
     "data": {
      "image/png": "[encoded data removed]",
      "text/plain": [
       "<Figure size 432x288 with 1 Axes>"
      ]
     },
     "metadata": {
      "needs_background": "light"
     },
     "output_type": "display_data"
    }
   ],
   "source": [
    "plt.plot(history.history['accuracy'])"
   ]
  },
  {
   "cell_type": "code",
   "execution_count": 13,
   "id": "00e640fd",
   "metadata": {},
   "outputs": [
    {
     "data": {
      "text/plain": [
       "[[1, 19, 4, 152]]"
      ]
     },
     "execution_count": 13,
     "metadata": {},
     "output_type": "execute_result"
    }
   ],
   "source": [
    "test_sent = tokenizer.texts_to_sequences(['The service was awesome'])\n",
    "test_sent"
   ]
  },
  {
   "cell_type": "code",
   "execution_count": 14,
   "id": "d0a0780f",
   "metadata": {},
   "outputs": [
    {
     "data": {
      "text/plain": [
       "array([[  0,   0,   0,   0,   0,   0,   0,   0,   0,   0,   0,   0,   0,\n",
       "          0,   0,   0,   0,   0,   0,   0,   0,   0,   0,   0,   0,   0,\n",
       "          0,   0,   1,  19,   4, 152]])"
      ]
     },
     "execution_count": 14,
     "metadata": {},
     "output_type": "execute_result"
    }
   ],
   "source": [
    "test_padded = np.array(pad_sequences(test_sent, maxlen=max_sequence_len, padding='pre'))\n",
    "test_padded"
   ]
  },
  {
   "cell_type": "code",
   "execution_count": 15,
   "id": "4822c6a1",
   "metadata": {},
   "outputs": [
    {
     "data": {
      "text/plain": [
       "0.9769362"
      ]
     },
     "execution_count": 15,
     "metadata": {},
     "output_type": "execute_result"
    }
   ],
   "source": [
    "model.predict(test_padded)[0][0]"
   ]
  },
  {
   "cell_type": "markdown",
   "id": "2af88294",
   "metadata": {},
   "source": [
    "### Second approach - bag of words"
   ]
  },
  {
   "cell_type": "code",
   "execution_count": 16,
   "id": "3c65718c",
   "metadata": {},
   "outputs": [],
   "source": [
    "from sklearn.model_selection import train_test_split\n",
    "from sklearn.feature_extraction.text import CountVectorizer\n",
    "from sklearn.naive_bayes import MultinomialNB\n",
    "from sklearn.metrics import accuracy_score, confusion_matrix"
   ]
  },
  {
   "cell_type": "code",
   "execution_count": 17,
   "id": "caa3ca5f",
   "metadata": {},
   "outputs": [
    {
     "data": {
      "text/html": [
       "<div>\n",
       "<style scoped>\n",
       "    .dataframe tbody tr th:only-of-type {\n",
       "        vertical-align: middle;\n",
       "    }\n",
       "\n",
       "    .dataframe tbody tr th {\n",
       "        vertical-align: top;\n",
       "    }\n",
       "\n",
       "    .dataframe thead th {\n",
       "        text-align: right;\n",
       "    }\n",
       "</style>\n",
       "<table border=\"1\" class=\"dataframe\">\n",
       "  <thead>\n",
       "    <tr style=\"text-align: right;\">\n",
       "      <th></th>\n",
       "      <th>Review</th>\n",
       "      <th>Liked</th>\n",
       "    </tr>\n",
       "  </thead>\n",
       "  <tbody>\n",
       "    <tr>\n",
       "      <th>0</th>\n",
       "      <td>Wow... Loved this place.</td>\n",
       "      <td>1</td>\n",
       "    </tr>\n",
       "    <tr>\n",
       "      <th>1</th>\n",
       "      <td>Crust is not good.</td>\n",
       "      <td>0</td>\n",
       "    </tr>\n",
       "    <tr>\n",
       "      <th>2</th>\n",
       "      <td>Not tasty and the texture was just nasty.</td>\n",
       "      <td>0</td>\n",
       "    </tr>\n",
       "    <tr>\n",
       "      <th>3</th>\n",
       "      <td>Stopped by during the late May bank holiday of...</td>\n",
       "      <td>1</td>\n",
       "    </tr>\n",
       "    <tr>\n",
       "      <th>4</th>\n",
       "      <td>The selection on the menu was great and so wer...</td>\n",
       "      <td>1</td>\n",
       "    </tr>\n",
       "  </tbody>\n",
       "</table>\n",
       "</div>"
      ],
      "text/plain": [
       "                                              Review  Liked\n",
       "0                           Wow... Loved this place.      1\n",
       "1                                 Crust is not good.      0\n",
       "2          Not tasty and the texture was just nasty.      0\n",
       "3  Stopped by during the late May bank holiday of...      1\n",
       "4  The selection on the menu was great and so wer...      1"
      ]
     },
     "execution_count": 17,
     "metadata": {},
     "output_type": "execute_result"
    }
   ],
   "source": [
    "dataset.head()"
   ]
  },
  {
   "cell_type": "code",
   "execution_count": 18,
   "id": "58e3b0b0",
   "metadata": {},
   "outputs": [
    {
     "data": {
      "text/plain": [
       "array(['Wow... Loved this place.', 'Crust is not good.',\n",
       "       'Not tasty and the texture was just nasty.',\n",
       "       'Stopped by during the late May bank holiday off Rick Steve recommendation and loved it.',\n",
       "       'The selection on the menu was great and so were the prices.',\n",
       "       'Now I am getting angry and I want my damn pho.',\n",
       "       \"Honeslty it didn't taste THAT fresh.)\",\n",
       "       'The potatoes were like rubber and you could tell they had been made up ahead of time being kept under a warmer.',\n",
       "       'The fries were great too.', 'A great touch.'], dtype=object)"
      ]
     },
     "execution_count": 18,
     "metadata": {},
     "output_type": "execute_result"
    }
   ],
   "source": [
    "X,y = dataset.Review, dataset.Liked\n",
    "X.values[:10]"
   ]
  },
  {
   "cell_type": "code",
   "execution_count": 19,
   "id": "f54580d5",
   "metadata": {},
   "outputs": [],
   "source": [
    "Vectorizer = CountVectorizer()\n",
    "count= Vectorizer.fit_transform(X.values)"
   ]
  },
  {
   "cell_type": "code",
   "execution_count": 20,
   "id": "4af1de23",
   "metadata": {},
   "outputs": [
    {
     "data": {
      "text/plain": [
       "(1000, 2035)"
      ]
     },
     "execution_count": 20,
     "metadata": {},
     "output_type": "execute_result"
    }
   ],
   "source": [
    "count.toarray().shape"
   ]
  },
  {
   "cell_type": "code",
   "execution_count": 21,
   "id": "0564a2a0",
   "metadata": {},
   "outputs": [],
   "source": [
    "X_train , X_test, y_train , y_test = train_test_split(count,y, test_size=0.25)"
   ]
  },
  {
   "cell_type": "code",
   "execution_count": 22,
   "id": "ad2db1d3",
   "metadata": {},
   "outputs": [
    {
     "data": {
      "text/plain": [
       "(750, 2035)"
      ]
     },
     "execution_count": 22,
     "metadata": {},
     "output_type": "execute_result"
    }
   ],
   "source": [
    "X_train.toarray().shape"
   ]
  },
  {
   "cell_type": "code",
   "execution_count": 23,
   "id": "f6a5309d",
   "metadata": {},
   "outputs": [
    {
     "data": {
      "text/plain": [
       "MultinomialNB()"
      ]
     },
     "execution_count": 23,
     "metadata": {},
     "output_type": "execute_result"
    }
   ],
   "source": [
    "NBclass = MultinomialNB()\n",
    "NBclass.fit(X_train, y_train.values)"
   ]
  },
  {
   "cell_type": "code",
   "execution_count": 24,
   "id": "12346ead",
   "metadata": {},
   "outputs": [],
   "source": [
    "y_pred = NBclass.predict(X_test)"
   ]
  },
  {
   "cell_type": "code",
   "execution_count": 25,
   "id": "35a11006",
   "metadata": {},
   "outputs": [
    {
     "data": {
      "text/plain": [
       "array([1, 0, 1, 1, 0, 0, 0, 0, 0, 0, 0, 1, 1, 1, 1, 0, 1, 1, 1, 1, 0, 1,\n",
       "       1, 0, 1, 0, 1, 1, 0, 0, 1, 1, 0, 1, 0, 0, 1, 1, 0, 1, 0, 1, 0, 0,\n",
       "       1, 0, 1, 0, 1, 0, 0, 0, 1, 1, 1, 1, 1, 0, 1, 0, 0, 0, 0, 1, 1, 0,\n",
       "       0, 1, 1, 0, 1, 0, 0, 1, 1, 1, 1, 1, 1, 1, 0, 0, 0, 0, 1, 1, 1, 1,\n",
       "       0, 0, 1, 1, 1, 1, 0, 0, 1, 0, 0, 1, 0, 0, 0, 1, 1, 1, 0, 0, 0, 0,\n",
       "       0, 1, 0, 1, 1, 1, 1, 1, 0, 0, 0, 1, 0, 1, 0, 0, 0, 0, 1, 0, 1, 1,\n",
       "       0, 0, 1, 1, 0, 0, 1, 1, 1, 1, 0, 1, 0, 0, 0, 0, 0, 1, 1, 0, 1, 0,\n",
       "       0, 0, 0, 0, 0, 0, 1, 0, 0, 0, 0, 1, 1, 1, 1, 1, 0, 0, 1, 1, 1, 1,\n",
       "       1, 0, 1, 1, 0, 1, 0, 1, 1, 0, 0, 1, 0, 0, 1, 1, 1, 1, 1, 1, 1, 0,\n",
       "       0, 0, 0, 0, 0, 1, 0, 1, 1, 0, 1, 1, 1, 1, 0, 0, 1, 0, 0, 1, 1, 0,\n",
       "       1, 0, 1, 0, 0, 0, 1, 0, 0, 1, 0, 0, 0, 0, 1, 1, 0, 1, 1, 1, 1, 1,\n",
       "       1, 1, 0, 0, 0, 1, 1, 0], dtype=int64)"
      ]
     },
     "execution_count": 25,
     "metadata": {},
     "output_type": "execute_result"
    }
   ],
   "source": [
    "y_pred"
   ]
  },
  {
   "cell_type": "code",
   "execution_count": 26,
   "id": "7828dde6",
   "metadata": {},
   "outputs": [
    {
     "data": {
      "text/plain": [
       "array([[ 96,  23],\n",
       "       [ 27, 104]], dtype=int64)"
      ]
     },
     "execution_count": 26,
     "metadata": {},
     "output_type": "execute_result"
    }
   ],
   "source": [
    "confusion_matrix(y_test , y_pred)"
   ]
  },
  {
   "cell_type": "code",
   "execution_count": 27,
   "id": "22083f57",
   "metadata": {},
   "outputs": [
    {
     "data": {
      "text/plain": [
       "0.8"
      ]
     },
     "execution_count": 27,
     "metadata": {},
     "output_type": "execute_result"
    }
   ],
   "source": [
    "accuracy_score(y_test , y_pred)"
   ]
  },
  {
   "cell_type": "markdown",
   "id": "8af5cc2a",
   "metadata": {},
   "source": [
    "Since the order of words is important to know if the review is good or bad, LSTM's produce better results than bag-of-words approach"
   ]
  }
 ],
 "metadata": {
  "kernelspec": {
   "display_name": "Python 3",
   "language": "python",
   "name": "python3"
  },
  "language_info": {
   "codemirror_mode": {
    "name": "ipython",
    "version": 3
   },
   "file_extension": ".py",
   "mimetype": "text/x-python",
   "name": "python",
   "nbconvert_exporter": "python",
   "pygments_lexer": "ipython3",
   "version": "3.8.8"
  }
 },
 "nbformat": 4,
 "nbformat_minor": 5
}
